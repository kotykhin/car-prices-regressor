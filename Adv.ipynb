{
 "cells": [
  {
   "cell_type": "code",
   "execution_count": 3,
   "id": "65b06553",
   "metadata": {},
   "outputs": [
    {
     "data": {
      "text/plain": [
       "Index(['engine_capacity', 'type', 'registration_year', 'gearbox', 'power',\n",
       "       'model', 'mileage', 'fuel', 'brand', 'damage', 'zipcode',\n",
       "       'insurance_price', 'price'],\n",
       "      dtype='object')"
      ]
     },
     "execution_count": 3,
     "metadata": {},
     "output_type": "execute_result"
    }
   ],
   "source": [
    "import pandas as pd\n",
    "import numpy as np\n",
    "data = pd.read_csv(\"train.csv\")\n",
    "data = data.drop(['Unnamed: 0'], axis=1)\n",
    "\n",
    "data.columns"
   ]
  },
  {
   "cell_type": "code",
   "execution_count": 4,
   "id": "508288ad",
   "metadata": {
    "scrolled": true
   },
   "outputs": [
    {
     "data": {
      "text/plain": [
       "['engine_capacity',\n",
       " 'type',\n",
       " 'gearbox',\n",
       " 'model',\n",
       " 'fuel',\n",
       " 'damage',\n",
       " 'insurance_price']"
      ]
     },
     "execution_count": 4,
     "metadata": {},
     "output_type": "execute_result"
    }
   ],
   "source": [
    "data_test = pd.read_csv(\"test_no_target.csv\")\n",
    "data_test = data_test.drop(['Unnamed: 0'], axis=1)\n",
    "\n",
    "cols_with_missing = [col for col in data.columns if data[col].isnull().any()]\n",
    "cols_with_missing"
   ]
  },
  {
   "cell_type": "code",
   "execution_count": 88,
   "id": "9c653f35",
   "metadata": {},
   "outputs": [],
   "source": [
    "from sklearn.impute import SimpleImputer\n",
    "from sklearn.model_selection import train_test_split\n",
    "\n",
    "y = data['price']\n",
    "\n",
    "X = data.drop(['price'], axis=1)\n",
    "\n",
    "X_train, X_valid, y_train, y_valid = train_test_split(X, y, train_size=0.75, test_size=0.25, random_state=0)\n",
    "\n",
    "y_train = np.log(y_train)\n",
    "\n",
    "imputer = SimpleImputer(missing_values=np.nan, strategy='most_frequent')\n",
    "\n",
    "imputed_X_train = pd.DataFrame(imputer.fit_transform(X_train))\n",
    "imputed_X_valid = pd.DataFrame(imputer.transform(X_valid))\n",
    "imputed_test = pd.DataFrame(imputer.transform(data_test))\n",
    "\n",
    "imputed_X_train.columns = X.columns\n",
    "imputed_X_valid.columns = X.columns\n",
    "imputed_test.columns = data_test.columns\n",
    "\n",
    "def types_change(old_df, new_df):\n",
    "    for i in old_df.columns:\n",
    "        if i in new_df.columns:\n",
    "            new_df[i] = new_df[i].astype(old_df[i].dtype)\n",
    "            \n",
    "types_change(X_train, imputed_X_train)\n",
    "types_change(X_valid, imputed_X_valid)\n",
    "types_change(data_test, imputed_test)"
   ]
  },
  {
   "cell_type": "code",
   "execution_count": 89,
   "id": "4e9c6f85",
   "metadata": {},
   "outputs": [
    {
     "data": {
      "text/plain": [
       "['type', 'gearbox', 'model', 'fuel', 'brand']"
      ]
     },
     "execution_count": 89,
     "metadata": {},
     "output_type": "execute_result"
    }
   ],
   "source": [
    "categorical = [col for col in X_train.columns if X_train[col].dtype == \"object\"]\n",
    "categorical"
   ]
  },
  {
   "cell_type": "code",
   "execution_count": 90,
   "id": "c9ea5079",
   "metadata": {},
   "outputs": [
    {
     "data": {
      "text/plain": [
       "['model']"
      ]
     },
     "execution_count": 90,
     "metadata": {},
     "output_type": "execute_result"
    }
   ],
   "source": [
    "same_labels = [col for col in categorical if set(X_valid[col]).issubset(set(X_train[col]))]\n",
    "\n",
    "not_same_labels = list(set(categorical) - set(same_labels))\n",
    "not_same_labels"
   ]
  },
  {
   "cell_type": "code",
   "execution_count": 91,
   "id": "aeed462f",
   "metadata": {},
   "outputs": [],
   "source": [
    "from sklearn.preprocessing import OrdinalEncoder\n",
    "from sklearn.preprocessing import OneHotEncoder\n",
    "\n",
    "label_X_train = imputed_X_train[same_labels]\n",
    "label_X_valid = imputed_X_valid[same_labels]\n",
    "label_data_test = imputed_test[same_labels]\n",
    "\n",
    "non_categorical_X_train = imputed_X_train.drop(categorical, axis=1)\n",
    "non_categorical_X_valid = imputed_X_valid.drop(categorical, axis=1)\n",
    "non_categorical_data_test = imputed_test.drop(categorical, axis=1)"
   ]
  },
  {
   "cell_type": "code",
   "execution_count": 92,
   "id": "2873486f",
   "metadata": {},
   "outputs": [],
   "source": [
    "label_encoder = OrdinalEncoder()\n",
    "\n",
    "label_X_train = pd.DataFrame(label_encoder.fit_transform(label_X_train))\n",
    "label_X_valid = pd.DataFrame(label_encoder.transform(label_X_valid))\n",
    "label_data_test = pd.DataFrame(label_encoder.transform(label_data_test))\n",
    "\n",
    "label_X_train.index = imputed_X_train[same_labels].index\n",
    "label_X_valid.index = imputed_X_valid[same_labels].index\n",
    "label_data_test.index = imputed_test[same_labels].index\n",
    "\n",
    "# avoid same cols\n",
    "label_X_train.columns = imputed_X_train[same_labels].columns\n",
    "label_X_valid.columns = imputed_X_valid[same_labels].columns\n",
    "label_data_test.columns = imputed_test[same_labels].columns"
   ]
  },
  {
   "cell_type": "code",
   "execution_count": 93,
   "id": "b634a328",
   "metadata": {},
   "outputs": [],
   "source": [
    "oneHot_X_train = imputed_X_train[not_same_labels]\n",
    "oneHot_X_valid = imputed_X_valid[not_same_labels]\n",
    "oneHot_data_test = imputed_test[not_same_labels]\n",
    "\n",
    "oneHot_encoder = OneHotEncoder(handle_unknown='ignore', sparse=False)\n",
    "\n",
    "oneHot_X_train = pd.DataFrame(oneHot_encoder.fit_transform(oneHot_X_train))\n",
    "oneHot_X_valid = pd.DataFrame(oneHot_encoder.transform(oneHot_X_valid))\n",
    "oneHot_data_test = pd.DataFrame(oneHot_encoder.transform(oneHot_data_test))\n",
    "\n",
    "oneHot_X_train.index = imputed_X_train[not_same_labels].index\n",
    "oneHot_X_valid.index = imputed_X_valid[not_same_labels].index\n",
    "oneHot_data_test.index = imputed_test[not_same_labels].index"
   ]
  },
  {
   "cell_type": "code",
   "execution_count": 94,
   "id": "b70356fe",
   "metadata": {},
   "outputs": [
    {
     "data": {
      "text/plain": [
       "Index([  'engine_capacity', 'registration_year',             'power',\n",
       "                 'mileage',            'damage',           'zipcode',\n",
       "         'insurance_price',              'type',           'gearbox',\n",
       "                    'fuel',\n",
       "       ...\n",
       "                       235,                 236,                 237,\n",
       "                       238,                 239,                 240,\n",
       "                       241,                 242,                 243,\n",
       "                       244],\n",
       "      dtype='object', length=256)"
      ]
     },
     "execution_count": 94,
     "metadata": {},
     "output_type": "execute_result"
    }
   ],
   "source": [
    "final_X_train = pd.concat([non_categorical_X_train, label_X_train, oneHot_X_train], axis=1)\n",
    "final_X_valid = pd.concat([non_categorical_X_valid, label_X_valid, oneHot_X_valid], axis=1)\n",
    "final_data_test = pd.concat([non_categorical_data_test, label_data_test, oneHot_data_test], axis=1)\n",
    "final_data_test.columns"
   ]
  },
  {
   "cell_type": "code",
   "execution_count": 95,
   "id": "91705b65",
   "metadata": {},
   "outputs": [],
   "source": [
    "from sklearn.ensemble import RandomForestRegressor\n",
    "from xgboost import XGBRegressor\n",
    "from catboost import CatBoostRegressor\n",
    "\n",
    "def mape(Y_actual, predicted):\n",
    "    mape = np.mean(np.abs((Y_actual - predicted)/Y_actual))*100\n",
    "    return mape\n",
    "\n",
    "def score_dataset(X_train, X_valid, y_train, y_valid, estimators):\n",
    "    model = XGBRegressor(n_estimators = estimators, random_state=0, learning_rate=0.2)\n",
    "    model.fit(X_train, y_train, verbose=False)\n",
    "    predicts = model.predict(X_valid)\n",
    "    data_submit = pd.read_csv(\"sample_submission.csv\")\n",
    "    data_submit[\"Predicted\"] = np.exp(predicts)\n",
    "    data_submit.to_csv(\"submit.csv\", index=False)\n",
    "    return 0#mape(y_valid, np.exp2(predicts))"
   ]
  },
  {
   "cell_type": "code",
   "execution_count": 96,
   "id": "72b254fd",
   "metadata": {},
   "outputs": [
    {
     "name": "stdout",
     "output_type": "stream",
     "text": [
      "Estimators: 430 - Score: 0\n"
     ]
    }
   ],
   "source": [
    "for est in [430]:\n",
    "    print(f'Estimators: {est} - Score: {score_dataset(final_X_train, final_data_test, y_train, y_valid, est)}')"
   ]
  },
  {
   "cell_type": "code",
   "execution_count": null,
   "id": "e1f9c092",
   "metadata": {},
   "outputs": [],
   "source": []
  }
 ],
 "metadata": {
  "kernelspec": {
   "display_name": "Python 3",
   "language": "python",
   "name": "python3"
  },
  "language_info": {
   "codemirror_mode": {
    "name": "ipython",
    "version": 3
   },
   "file_extension": ".py",
   "mimetype": "text/x-python",
   "name": "python",
   "nbconvert_exporter": "python",
   "pygments_lexer": "ipython3",
   "version": "3.6.8"
  }
 },
 "nbformat": 4,
 "nbformat_minor": 5
}
